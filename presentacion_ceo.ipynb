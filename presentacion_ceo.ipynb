{
 "cells": [
  {
   "cell_type": "code",
   "execution_count": 3,
   "id": "da0debd0-5240-4a73-a386-28166c9f0a62",
   "metadata": {
    "jupyter": {
     "source_hidden": true
    },
    "slideshow": {
     "slide_type": "skip"
    },
    "tags": [
     "remove-imput",
     "remove-output"
    ]
   },
   "outputs": [],
   "source": [
    "import pandas as pd\n",
    "import seaborn as sns\n",
    "import statsmodels.api as sm\n",
    "import statsmodels.formula.api as smf\n",
    "import matplotlib.pyplot as plt\n",
    "import numpy as np"
   ]
  },
  {
   "cell_type": "code",
   "execution_count": 4,
   "id": "80a424a7-8a8e-41dd-a42c-50c18db0f9fb",
   "metadata": {
    "collapsed": true,
    "jupyter": {
     "outputs_hidden": true,
     "source_hidden": true
    },
    "slideshow": {
     "slide_type": "skip"
    },
    "tags": [
     "remove-imput",
     "remove-output"
    ]
   },
   "outputs": [
    {
     "data": {
      "text/html": [
       "<div>\n",
       "<style scoped>\n",
       "    .dataframe tbody tr th:only-of-type {\n",
       "        vertical-align: middle;\n",
       "    }\n",
       "\n",
       "    .dataframe tbody tr th {\n",
       "        vertical-align: top;\n",
       "    }\n",
       "\n",
       "    .dataframe thead th {\n",
       "        text-align: right;\n",
       "    }\n",
       "</style>\n",
       "<table border=\"1\" class=\"dataframe\">\n",
       "  <thead>\n",
       "    <tr style=\"text-align: right;\">\n",
       "      <th></th>\n",
       "      <th>seller_id</th>\n",
       "      <th>seller_city</th>\n",
       "      <th>seller_state</th>\n",
       "      <th>delay_to_carrier</th>\n",
       "      <th>wait_time</th>\n",
       "      <th>date_first_sale</th>\n",
       "      <th>date_last_sale</th>\n",
       "      <th>months_on_olist</th>\n",
       "      <th>share_of_one_stars</th>\n",
       "      <th>share_of_five_stars</th>\n",
       "      <th>review_score</th>\n",
       "      <th>cost_of_reviews</th>\n",
       "      <th>n_orders</th>\n",
       "      <th>quantity</th>\n",
       "      <th>quantity_per_order</th>\n",
       "      <th>sales</th>\n",
       "      <th>revenues</th>\n",
       "      <th>profits</th>\n",
       "    </tr>\n",
       "  </thead>\n",
       "  <tbody>\n",
       "    <tr>\n",
       "      <th>0</th>\n",
       "      <td>3442f8959a84dea7ee197c632cb2df15</td>\n",
       "      <td>campinas</td>\n",
       "      <td>SP</td>\n",
       "      <td>0.000000</td>\n",
       "      <td>13.018588</td>\n",
       "      <td>2017-05-05 16:25:11</td>\n",
       "      <td>2017-08-30 12:50:19</td>\n",
       "      <td>4.0</td>\n",
       "      <td>0.333333</td>\n",
       "      <td>0.333333</td>\n",
       "      <td>3.00</td>\n",
       "      <td>140</td>\n",
       "      <td>3</td>\n",
       "      <td>3</td>\n",
       "      <td>1.000</td>\n",
       "      <td>218.70</td>\n",
       "      <td>421.870</td>\n",
       "      <td>281.870</td>\n",
       "    </tr>\n",
       "    <tr>\n",
       "      <th>1</th>\n",
       "      <td>d1b65fc7debc3361ea86b5f14c68d2e2</td>\n",
       "      <td>mogi guacu</td>\n",
       "      <td>SP</td>\n",
       "      <td>0.000000</td>\n",
       "      <td>9.065716</td>\n",
       "      <td>2017-03-29 02:10:34</td>\n",
       "      <td>2018-06-06 20:15:21</td>\n",
       "      <td>14.0</td>\n",
       "      <td>0.050000</td>\n",
       "      <td>0.725000</td>\n",
       "      <td>4.55</td>\n",
       "      <td>240</td>\n",
       "      <td>40</td>\n",
       "      <td>41</td>\n",
       "      <td>1.025</td>\n",
       "      <td>11703.07</td>\n",
       "      <td>2370.307</td>\n",
       "      <td>2130.307</td>\n",
       "    </tr>\n",
       "    <tr>\n",
       "      <th>2</th>\n",
       "      <td>ce3ad9de960102d0677a81f5d0bb7b2d</td>\n",
       "      <td>rio de janeiro</td>\n",
       "      <td>RJ</td>\n",
       "      <td>0.000000</td>\n",
       "      <td>4.042292</td>\n",
       "      <td>2018-07-30 12:44:49</td>\n",
       "      <td>2018-07-30 12:44:49</td>\n",
       "      <td>0.0</td>\n",
       "      <td>0.000000</td>\n",
       "      <td>1.000000</td>\n",
       "      <td>5.00</td>\n",
       "      <td>0</td>\n",
       "      <td>1</td>\n",
       "      <td>1</td>\n",
       "      <td>1.000</td>\n",
       "      <td>158.00</td>\n",
       "      <td>95.800</td>\n",
       "      <td>95.800</td>\n",
       "    </tr>\n",
       "    <tr>\n",
       "      <th>3</th>\n",
       "      <td>c0f3eea2e14555b6faeea3dd58c1b1c3</td>\n",
       "      <td>sao paulo</td>\n",
       "      <td>SP</td>\n",
       "      <td>0.000000</td>\n",
       "      <td>5.667187</td>\n",
       "      <td>2018-08-03 00:44:08</td>\n",
       "      <td>2018-08-03 00:44:08</td>\n",
       "      <td>0.0</td>\n",
       "      <td>0.000000</td>\n",
       "      <td>1.000000</td>\n",
       "      <td>5.00</td>\n",
       "      <td>0</td>\n",
       "      <td>1</td>\n",
       "      <td>1</td>\n",
       "      <td>1.000</td>\n",
       "      <td>79.99</td>\n",
       "      <td>87.999</td>\n",
       "      <td>87.999</td>\n",
       "    </tr>\n",
       "    <tr>\n",
       "      <th>4</th>\n",
       "      <td>51a04a8a6bdcb23deccc82b0b80742cf</td>\n",
       "      <td>braganca paulista</td>\n",
       "      <td>SP</td>\n",
       "      <td>3.353727</td>\n",
       "      <td>35.314861</td>\n",
       "      <td>2017-11-14 12:15:25</td>\n",
       "      <td>2017-11-14 12:15:25</td>\n",
       "      <td>0.0</td>\n",
       "      <td>1.000000</td>\n",
       "      <td>0.000000</td>\n",
       "      <td>1.00</td>\n",
       "      <td>100</td>\n",
       "      <td>1</td>\n",
       "      <td>1</td>\n",
       "      <td>1.000</td>\n",
       "      <td>167.99</td>\n",
       "      <td>96.799</td>\n",
       "      <td>-3.201</td>\n",
       "    </tr>\n",
       "  </tbody>\n",
       "</table>\n",
       "</div>"
      ],
      "text/plain": [
       "                          seller_id        seller_city seller_state  \\\n",
       "0  3442f8959a84dea7ee197c632cb2df15           campinas           SP   \n",
       "1  d1b65fc7debc3361ea86b5f14c68d2e2         mogi guacu           SP   \n",
       "2  ce3ad9de960102d0677a81f5d0bb7b2d     rio de janeiro           RJ   \n",
       "3  c0f3eea2e14555b6faeea3dd58c1b1c3          sao paulo           SP   \n",
       "4  51a04a8a6bdcb23deccc82b0b80742cf  braganca paulista           SP   \n",
       "\n",
       "   delay_to_carrier  wait_time     date_first_sale      date_last_sale  \\\n",
       "0          0.000000  13.018588 2017-05-05 16:25:11 2017-08-30 12:50:19   \n",
       "1          0.000000   9.065716 2017-03-29 02:10:34 2018-06-06 20:15:21   \n",
       "2          0.000000   4.042292 2018-07-30 12:44:49 2018-07-30 12:44:49   \n",
       "3          0.000000   5.667187 2018-08-03 00:44:08 2018-08-03 00:44:08   \n",
       "4          3.353727  35.314861 2017-11-14 12:15:25 2017-11-14 12:15:25   \n",
       "\n",
       "   months_on_olist  share_of_one_stars  share_of_five_stars  review_score  \\\n",
       "0              4.0            0.333333             0.333333          3.00   \n",
       "1             14.0            0.050000             0.725000          4.55   \n",
       "2              0.0            0.000000             1.000000          5.00   \n",
       "3              0.0            0.000000             1.000000          5.00   \n",
       "4              0.0            1.000000             0.000000          1.00   \n",
       "\n",
       "   cost_of_reviews  n_orders  quantity  quantity_per_order     sales  \\\n",
       "0              140         3         3               1.000    218.70   \n",
       "1              240        40        41               1.025  11703.07   \n",
       "2                0         1         1               1.000    158.00   \n",
       "3                0         1         1               1.000     79.99   \n",
       "4              100         1         1               1.000    167.99   \n",
       "\n",
       "   revenues   profits  \n",
       "0   421.870   281.870  \n",
       "1  2370.307  2130.307  \n",
       "2    95.800    95.800  \n",
       "3    87.999    87.999  \n",
       "4    96.799    -3.201  "
      ]
     },
     "execution_count": 4,
     "metadata": {},
     "output_type": "execute_result"
    }
   ],
   "source": [
    "from olist.seller import Seller\n",
    "sellers = Seller().get_training_data()\n",
    "sellers.head()"
   ]
  },
  {
   "cell_type": "code",
   "execution_count": 5,
   "id": "99c2d8cd-1a9d-4c42-bc9f-3585928dacb8",
   "metadata": {
    "jupyter": {
     "source_hidden": true
    },
    "slideshow": {
     "slide_type": "skip"
    },
    "tags": [
     "remove-imput",
     "remove-output"
    ]
   },
   "outputs": [],
   "source": [
    "seller = Seller()\n",
    "training_set = seller.get_training_data()\n",
    "sellers_data = training_set.copy()"
   ]
  },
  {
   "cell_type": "markdown",
   "id": "4e748f9c-ad79-471e-849d-06f518faf7cb",
   "metadata": {
    "slideshow": {
     "slide_type": "slide"
    },
    "tags": []
   },
   "source": [
    "# Análisis de Olist"
   ]
  },
  {
   "cell_type": "markdown",
   "id": "264f7520-a262-4c02-bf20-72b1e1e2a4d3",
   "metadata": {
    "slideshow": {
     "slide_type": "fragment"
    },
    "tags": []
   },
   "source": [
    "## Presented by:\n",
    "\n",
    "## Ricardo Rivas\n",
    "## Mauricio González\n",
    "## Mónica Venzor"
   ]
  },
  {
   "cell_type": "markdown",
   "id": "c28c74d8-836e-4cc9-a9bc-ab79274de3aa",
   "metadata": {},
   "source": []
  },
  {
   "cell_type": "markdown",
   "id": "15b4f553-20d8-4ee7-bec8-0cc3da6dd3d3",
   "metadata": {},
   "source": []
  },
  {
   "cell_type": "markdown",
   "id": "891cd4c0-da4f-47c4-a9d7-7206c7575d28",
   "metadata": {},
   "source": []
  },
  {
   "cell_type": "code",
   "execution_count": 6,
   "id": "39b6db9b-cfaa-46b2-8227-534833ac8766",
   "metadata": {
    "jupyter": {
     "source_hidden": true
    },
    "slideshow": {
     "slide_type": "skip"
    },
    "tags": [
     "remove-imput"
    ]
   },
   "outputs": [],
   "source": [
    "alpha = 3157.27\n",
    "beta = 978.23"
   ]
  },
  {
   "cell_type": "markdown",
   "id": "36ea83e0-8d58-4a93-be18-8f431572d5ed",
   "metadata": {
    "jupyter": {
     "source_hidden": true
    },
    "slideshow": {
     "slide_type": "skip"
    },
    "tags": []
   },
   "source": [
    "sellers_data['cumulative_profits'] = sellers_data['profits'].cumsum()\n",
    "sellers_data['cumulative_items'] = sellers_data['quantity'].cumsum()\n",
    "n_sellers = np.arange(1, len(sellers_data) + 1)\n",
    "sellers_data['cumulative_it_costs'] = alpha * np.sqrt(n_sellers) + beta * np.sqrt(sellers_data['cumulative_items'])\n",
    "sellers_data['cumulative_net_profit'] = sellers_data['cumulative_profits'] - sellers_data['cumulative_it_costs']"
   ]
  },
  {
   "cell_type": "markdown",
   "id": "9606ad70-de52-429e-ad58-68e3135e222e",
   "metadata": {
    "slideshow": {
     "slide_type": "subslide"
    },
    "tags": []
   },
   "source": [
    "## ❓ **Cómo podemos aumentar las ganancias de Olist** ❓"
   ]
  },
  {
   "cell_type": "markdown",
   "id": "abbbd2c9-98f9-4379-a010-be4cd48238aa",
   "metadata": {
    "slideshow": {
     "slide_type": "fragment"
    },
    "tags": []
   },
   "source": [
    "Exiten vendedores en nuestra plataforma que podrian generar pérdidas considerables."
   ]
  },
  {
   "cell_type": "markdown",
   "id": "4ea3eb68-2af3-45e0-8a5c-9bf3b0b39185",
   "metadata": {},
   "source": [
    "Tenemos un total de 2967 vendedores que nos generan un impacto negativo conforme nuestras ganancias"
   ]
  },
  {
   "cell_type": "code",
   "execution_count": 12,
   "id": "463f8d02-e738-4aaa-9f8d-5d2e35de6a20",
   "metadata": {
    "jupyter": {
     "source_hidden": true
    },
    "slideshow": {
     "slide_type": "fragment"
    },
    "tags": [
     "remove-imput"
    ]
   },
   "outputs": [
    {
     "data": {
      "image/png": "[encoded data removed]",
      "text/plain": [
       "<Figure size 1000x500 with 1 Axes>"
      ]
     },
     "metadata": {},
     "output_type": "display_data"
    }
   ],
   "source": [
    "plt.figure(figsize=(10, 5))\n",
    "plt.hist(sellers_data['profits'], bins=20, edgecolor='black', color='skyblue', alpha=0.7)\n",
    "plt.xlabel('Profits')\n",
    "plt.ylabel('Número de Vendedores')\n",
    "plt.title('Distribución de Profits entre Vendedores');"
   ]
  },
  {
   "cell_type": "markdown",
   "id": "e86d085f-572d-4e73-aa10-47ba08907858",
   "metadata": {},
   "source": []
  },
  {
   "cell_type": "markdown",
   "id": "03cc527e-ed12-488f-a07d-dd8dec9207c1",
   "metadata": {},
   "source": []
  },
  {
   "cell_type": "markdown",
   "id": "1a903d85-3e1e-4c03-aa2b-5d31997c9c7f",
   "metadata": {
    "slideshow": {
     "slide_type": "slide"
    },
    "tags": []
   },
   "source": [
    "# Determinacion de threshoold a los vendedores"
   ]
  },
  {
   "cell_type": "markdown",
   "id": "81a48066-aa90-4077-8f45-fc172cc96b3e",
   "metadata": {},
   "source": [
    "### Utilizacion de quantiles (0.25) = vendedores de Bajo rendimiendo"
   ]
  },
  {
   "cell_type": "code",
   "execution_count": 13,
   "id": "7ad808b5-86ef-4dab-9577-49526ef768ea",
   "metadata": {
    "jupyter": {
     "source_hidden": true
    },
    "slideshow": {
     "slide_type": "fragment"
    },
    "tags": [
     "remove-imput"
    ]
   },
   "outputs": [
    {
     "data": {
      "image/png": "[encoded data removed]",
      "text/plain": [
       "<Figure size 1000x500 with 1 Axes>"
      ]
     },
     "metadata": {},
     "output_type": "display_data"
    }
   ],
   "source": [
    "low_performance_threshold = sellers_data['profits'].quantile(0.25)\n",
    "low_performance_threshold\n",
    "low_performance_sellers = sellers_data[sellers_data['profits'] <= low_performance_threshold]\n",
    "low_performance_sellers\n",
    "profitable_sellers = sellers_data[sellers_data['profits'] > low_performance_threshold]\n",
    "\n",
    "plt.figure(figsize=(10, 5))\n",
    "plt.hist(low_performance_sellers['profits'], bins=30, edgecolor='black', color='salmon', alpha=0.6, label='Bajo Rendimiento')\n",
    "plt.hist(profitable_sellers['profits'], bins=30, edgecolor='black', color='skyblue', alpha=0.6, label='Alto Rendimiento')\n",
    "plt.xlabel('Profits')\n",
    "plt.ylabel('Número de Vendedores')\n",
    "plt.title('Comparación de Profits entre Vendedores de Bajo y Alto Rendimiento')\n",
    "plt.legend()\n",
    "plt.show()"
   ]
  },
  {
   "cell_type": "markdown",
   "id": "cdac4b84-eb85-4c16-9b1b-0e6ee283cd83",
   "metadata": {},
   "source": [
    "742 vendedores son los vendedores que se categorizan como bajo rendimiento"
   ]
  },
  {
   "cell_type": "markdown",
   "id": "b54a2f65-9626-4b13-ad47-edca3adaee77",
   "metadata": {},
   "source": [
    "2225 vendedores considerados como alto rendimiento"
   ]
  },
  {
   "cell_type": "code",
   "execution_count": 14,
   "id": "27ec1887-f1ee-4939-8ae1-3fd8c20e912c",
   "metadata": {
    "collapsed": true,
    "jupyter": {
     "outputs_hidden": true
    },
    "tags": []
   },
   "outputs": [
    {
     "ename": "SyntaxError",
     "evalue": "invalid syntax (4066179493.py, line 1)",
     "output_type": "error",
     "traceback": [
      "\u001b[0;36m  Cell \u001b[0;32mIn [14], line 1\u001b[0;36m\u001b[0m\n\u001b[0;31m    Perdidas generadas por vendedores de bajo rendimiento: -243773.202 (-17.35%)\u001b[0m\n\u001b[0m             ^\u001b[0m\n\u001b[0;31mSyntaxError\u001b[0m\u001b[0;31m:\u001b[0m invalid syntax\n"
     ]
    }
   ],
   "source": [
    "Perdidas generadas por vendedores de bajo rendimiento: -243773.202 (-17.35%)\n",
    "Ganancias de vendedores de alto rendimiento: 1648741.646 (117.35%)"
   ]
  },
  {
   "cell_type": "markdown",
   "id": "8c51ab22-7c45-4754-81d7-e3c4770ff5fb",
   "metadata": {
    "slideshow": {
     "slide_type": "slide"
    },
    "tags": []
   },
   "source": [
    "# Costos IT en relacion con vendedores Alto rendimiento"
   ]
  },
  {
   "cell_type": "markdown",
   "id": "6152d6e6-eed3-4e88-91c7-34119abbfd10",
   "metadata": {},
   "source": [
    "Disminuye el costo de IT, pero será considerable?"
   ]
  },
  {
   "cell_type": "markdown",
   "id": "995862f0-ce2a-4f83-8691-7e08ed9125f3",
   "metadata": {
    "slideshow": {
     "slide_type": "fragment"
    },
    "tags": []
   },
   "source": [
    "![Imagen desde la web](grafico.png)"
   ]
  },
  {
   "cell_type": "markdown",
   "id": "64ec062f-0de4-4d30-8599-b4cc6ffb753e",
   "metadata": {},
   "source": []
  },
  {
   "cell_type": "markdown",
   "id": "e3e4a092-6174-4572-b927-f7b2e37746da",
   "metadata": {},
   "source": []
  },
  {
   "cell_type": "markdown",
   "id": "9d7cd141-b10f-426c-830a-99f6dc08fa1c",
   "metadata": {
    "tags": []
   },
   "source": [
    "# Conclusión"
   ]
  },
  {
   "cell_type": "markdown",
   "id": "64e32ff3-a8d0-42f6-aad4-9df326b418cc",
   "metadata": {
    "slideshow": {
     "slide_type": "slide"
    },
    "tags": []
   },
   "source": [
    "## En base a nuestro análisis podemos concluir que Olist aumentaria sus ganancias al reducir 742 vendedores de Bajo rendimiento, sin reflejar un impacto en las ganancias."
   ]
  },
  {
   "cell_type": "markdown",
   "id": "5f068bb6-256a-4b28-83bd-e38d272aa705",
   "metadata": {},
   "source": [
    "## 2225 vendedores 1648741.646 (117.35%)"
   ]
  }
 ],
 "metadata": {
  "kernelspec": {
   "display_name": "Python 3 (ipykernel)",
   "language": "python",
   "name": "python3"
  },
  "language_info": {
   "codemirror_mode": {
    "name": "ipython",
    "version": 3
   },
   "file_extension": ".py",
   "mimetype": "text/x-python",
   "name": "python",
   "nbconvert_exporter": "python",
   "pygments_lexer": "ipython3",
   "version": "3.10.6"
  }
 },
 "nbformat": 4,
 "nbformat_minor": 5
}
